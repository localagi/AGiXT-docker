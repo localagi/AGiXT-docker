{
 "cells": [
  {
   "attachments": {},
   "cell_type": "markdown",
   "metadata": {},
   "source": [
    "## AGiXT Notebook\n",
    "\n",
    "### Jupyter Notebook for all AGiXT API endpoints\n",
    "\n",
    "First set the uri of your AGiXT server, the Agent's name, and a command name to test with.\n"
   ]
  },
  {
   "cell_type": "code",
   "execution_count": null,
   "metadata": {},
   "outputs": [],
   "source": [
    "import requests\n",
    "from pprint import pprint\n",
    "\n",
    "from cfg import cfg\n",
    "\n",
    "base_uri = \"http://localhost:7437\"\n",
    "\n",
    "agent_name = \"test_suite_agent\"\n",
    "agent_settings = cfg[\"agent_settings_openai\"]\n",
    "agent_commands = cfg[\"agent_commands\"]\n",
    "\n",
    "shots = 3 # for SMART actions\n",
    "\n",
    "instruction = cfg[\"message-1\"]\n",
    "chat = cfg[\"message-3\"]\n",
    "task = cfg[\"message-3\"]"
   ]
  },
  {
   "attachments": {},
   "cell_type": "markdown",
   "metadata": {},
   "source": [
    "## Agent setup\n"
   ]
  },
  {
   "cell_type": "code",
   "execution_count": null,
   "metadata": {},
   "outputs": [],
   "source": [
    "# Test POST /api/agent\n",
    "# Add an agent\n",
    "data = {\"agent_name\": agent_name, \"settings\": agent_settings }\n",
    "response = requests.post(f\"{base_uri}/api/agent\", json=data)\n",
    "pprint(response.json())\n"
   ]
  },
  {
   "cell_type": "code",
   "execution_count": null,
   "metadata": {},
   "outputs": [],
   "source": [
    "# Test PATCH /api/agent/{agent_name}/command\n",
    "# Update the agent's commands\n",
    "for command_name, enabled in agent_commands.items():\n",
    " data = {\"command_name\": command_name, \"enable\": enabled}\n",
    " response = requests.patch(f\"{base_uri}/api/agent/{agent_name}/command\", json=data)\n",
    " pprint(response.json())"
   ]
  },
  {
   "attachments": {},
   "cell_type": "markdown",
   "metadata": {},
   "source": [
    "## [SMART]Instruct agent\n"
   ]
  },
  {
   "cell_type": "code",
   "execution_count": null,
   "metadata": {},
   "outputs": [],
   "source": [
    "# Test POST /api/agent/{agent_name}/instruct\n",
    "# Instruct the agent\n",
    "data = {\"prompt\": instruction}\n",
    "response = requests.post(f\"{base_uri}/api/agent/{agent_name}/instruct\", json=data)\n",
    "assert response.status_code == 200, response.json()\n",
    "data = response.json()\n",
    "print(data[\"response\"])"
   ]
  },
  {
   "cell_type": "code",
   "execution_count": null,
   "metadata": {},
   "outputs": [],
   "source": [
    "# Test POST /api/agent/{agent_name}/smartinstruct/{shots}\n",
    "# SMART Instruct the agent\n",
    "data = {\"prompt\": instruction}\n",
    "response = requests.post(f\"{base_uri}/api/agent/{agent_name}/smartinstruct/{shots}\", json=data)\n",
    "assert response.status_code == 200, response.json()\n",
    "data = response.json()\n",
    "print(data[\"response\"])"
   ]
  },
  {
   "attachments": {},
   "cell_type": "markdown",
   "metadata": {},
   "source": [
    "## [SMART]Chat with agent\n"
   ]
  },
  {
   "cell_type": "code",
   "execution_count": null,
   "metadata": {},
   "outputs": [],
   "source": [
    "# Test POST /api/{agent_name}/chat\n",
    "# Chat with agent\n",
    "data = {\"prompt\": chat}\n",
    "response = requests.post(f\"{base_uri}/api/agent/{agent_name}/chat\", json=data)\n",
    "assert response.status_code == 200, response.json()\n",
    "pprint(response.json())"
   ]
  },
  {
   "cell_type": "code",
   "execution_count": null,
   "metadata": {},
   "outputs": [],
   "source": [
    "# Test POST /api/agent/{agent_name}/smartchat/{shots}\n",
    "# SmartChat with agent\n",
    "data = {\"prompt\": chat}\n",
    "response = requests.post(f\"{base_uri}/api/agent/{agent_name}/smartchat/{shots}\", json=data)\n",
    "assert response.status_code == 200, response.json()\n",
    "pprint(response.json())"
   ]
  },
  {
   "attachments": {},
   "cell_type": "markdown",
   "metadata": {},
   "source": [
    "## Tasks\n"
   ]
  },
  {
   "cell_type": "code",
   "execution_count": null,
   "metadata": {},
   "outputs": [],
   "source": [
    "# Test POST /api/agent/{agent_name}/task\n",
    "# Create a task for the agent\n",
    "data = {\"objective\": task}\n",
    "response = requests.post(f\"{base_uri}/api/agent/{agent_name}/task\", json=data)\n",
    "print(response.json())"
   ]
  },
  {
   "cell_type": "code",
   "execution_count": null,
   "metadata": {},
   "outputs": [],
   "source": [
    "# Test GET /api/agent/{agent_name}/task/status\n",
    "# Get the agent's task status\n",
    "response = requests.get(f\"{base_uri}/api/agent/{agent_name}/task/status\")\n",
    "pprint(response.json())"
   ]
  },
  {
   "cell_type": "code",
   "execution_count": null,
   "metadata": {},
   "outputs": [],
   "source": [
    "# Test GET /api/agent/{agent_name}/task\n",
    "# Get the agent's task\n",
    "response = requests.get(f\"{base_uri}/api/agent/{agent_name}/task\")\n",
    "pprint(response.json())"
   ]
  },
  {
   "attachments": {},
   "cell_type": "markdown",
   "metadata": {},
   "source": [
    "## Agent teardown\n"
   ]
  },
  {
   "cell_type": "code",
   "execution_count": null,
   "metadata": {},
   "outputs": [],
   "source": [
    "# Test DELETE /api/agent/{agent_name}\n",
    "# Delete the agent\n",
    "response = requests.delete(f\"{base_uri}/api/agent/{agent_name}\")\n",
    "pprint(response.json())"
   ]
  }
 ],
 "metadata": {
  "kernelspec": {
   "display_name": "Python 3 (ipykernel)",
   "language": "python",
   "name": "python3"
  },
  "language_info": {
   "codemirror_mode": {
    "name": "ipython",
    "version": 3
   },
   "file_extension": ".py",
   "mimetype": "text/x-python",
   "name": "python",
   "nbconvert_exporter": "python",
   "pygments_lexer": "ipython3",
   "version": "3.10.6"
  }
 },
 "nbformat": 4,
 "nbformat_minor": 4
}
