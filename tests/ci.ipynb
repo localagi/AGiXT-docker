{
 "cells": [
  {
   "attachments": {},
   "cell_type": "markdown",
   "metadata": {},
   "source": [
    "## AGiXT Notebook\n",
    "\n",
    "### Jupyter Notebook for all AGiXT API endpoints\n",
    "\n",
    "First set the uri of your AGiXT server, the Agent's name, and a command name to test with.\n"
   ]
  },
  {
   "cell_type": "code",
   "execution_count": 2,
   "metadata": {},
   "outputs": [],
   "source": [
    "import requests\n",
    "from pprint import pprint\n",
    "\n",
    "import os\n",
    "OPENAI_API_KEY = os.getenv('API_KEY')\n",
    "\n",
    "base_uri = \"http://localhost:7437\"\n",
    "\n",
    "# AGENT settings\n",
    "agent_name = \"ci_agent\"\n",
    "\n",
    "agent_settings = {\"provider\": \"gpt4free\"}\n",
    "\n",
    "agent_settings_openai = {\"provider\": \"openai\",\n",
    "                      \"OPENAI_API_KEY\": OPENAI_API_KEY,\n",
    "                      \"AI_MODEL\": \"gpt-3.5-turbo\",\n",
    "                      \"AI_TEMPERATURE\": \"0.7\",\n",
    "                      \"MAX_TOKENS\": \"4000\",\n",
    "                      \"embedder\": \"openai\"}\n",
    "\n",
    "agent_commands = {\n",
    "                        'Get Response': True,\n",
    "                        'Google Search': True,\n",
    "                        'Is Valid URL': True,\n",
    "                        'Sanitize URL': True,\n",
    "                        'Scrape Links': True,\n",
    "                        'Scrape Links with Playwright': True,\n",
    "                        'Scrape Text': True,\n",
    "                        'Scrape Text with Playwright': True,\n",
    "#                        'Scrape Text with Selenium': True,\n",
    "                        'Use The Search Engine': True\n",
    "}\n",
    "\n",
    "renamed_agent_name = \"ci_agent_new\"\n",
    "\n",
    "# SMART settings\n",
    "shots = 3\n",
    "\n",
    "# INSTRUCTION settings\n",
    "#instruction = \"Write a tweet about AI.\"\n",
    "instruction = \"Write a short text about AI suitable for a tweet.\"\n",
    "\n",
    "\n",
    "# CHAT settings\n",
    "chat = \"Hi! Can you write me a short story about the sun and the clouds?\"\n",
    "\n",
    "# TASK settings\n",
    "task = instruction\n",
    "\n",
    "\n",
    "prompt_name = \"ci_prompt\"\n",
    "prompt = \"What is the capital of France?\"\n",
    "\n",
    "OPENAI_API_KEY=\"TBD\",\n",
    "\n"
   ]
  },
  {
   "attachments": {},
   "cell_type": "markdown",
   "metadata": {},
   "source": [
    "## Providers\n"
   ]
  },
  {
   "cell_type": "code",
   "execution_count": 3,
   "metadata": {},
   "outputs": [
    {
     "name": "stdout",
     "output_type": "stream",
     "text": [
      "{'providers': ['fastchat',\n",
      "               'oobabooga',\n",
      "               'palm',\n",
      "               'azure',\n",
      "               'transformer',\n",
      "               'openai',\n",
      "               'kobold',\n",
      "               'gpt4all',\n",
      "               'gpt4free',\n",
      "               'huggingchat',\n",
      "               'gpugpt4all',\n",
      "               'chatgpt',\n",
      "               'bard',\n",
      "               'claude',\n",
      "               'llamacppapi',\n",
      "               'bing',\n",
      "               'llamacpp']}\n"
     ]
    }
   ],
   "source": [
    "# Test GET /api/provider\n",
    "response = requests.get(f\"{base_uri}/api/provider\")\n",
    "pprint(response.json())"
   ]
  },
  {
   "cell_type": "code",
   "execution_count": 16,
   "metadata": {},
   "outputs": [
    {
     "name": "stdout",
     "output_type": "stream",
     "text": [
      "{'settings': ['OPENAI_API_KEY', 'AI_MODEL', 'AI_TEMPERATURE', 'MAX_TOKENS']}\n"
     ]
    }
   ],
   "source": [
    "# Test GET /api/provider\n",
    "provider = \"openai\"\n",
    "response = requests.get(f\"{base_uri}/api/provider/{provider}\")\n",
    "pprint(response.json())\n"
   ]
  },
  {
   "cell_type": "code",
   "execution_count": 5,
   "metadata": {},
   "outputs": [
    {
     "name": "stdout",
     "output_type": "stream",
     "text": [
      "{'providers': ['azure',\n",
      "               'cohere',\n",
      "               'default',\n",
      "               'google_palm',\n",
      "               'google_vertex',\n",
      "               'large_local',\n",
      "               'llamacpp',\n",
      "               'openai']}\n"
     ]
    }
   ],
   "source": [
    "# Test GET /api/embedding_providers\n",
    "response = requests.get(f\"{base_uri}/api/embedding_providers\")\n",
    "pprint(response.json())"
   ]
  },
  {
   "attachments": {},
   "cell_type": "markdown",
   "metadata": {},
   "source": [
    "## Agents\n"
   ]
  },
  {
   "cell_type": "code",
   "execution_count": 6,
   "metadata": {},
   "outputs": [
    {
     "name": "stdout",
     "output_type": "stream",
     "text": [
      "{'agent_file': 'ci_agent.yaml', 'message': 'Agent added'}\n"
     ]
    }
   ],
   "source": [
    "# Test POST /api/agent\n",
    "# Add an agent\n",
    "data = {\"agent_name\": agent_name, \"settings\": agent_settings_openai }\n",
    "response = requests.post(f\"{base_uri}/api/agent\", json=data)\n",
    "pprint(response.json())\n"
   ]
  },
  {
   "cell_type": "code",
   "execution_count": 7,
   "metadata": {
    "scrolled": true
   },
   "outputs": [],
   "source": [
    "# Test GET /api/agent/{agent_name}\n",
    "# Get the agent\n",
    "response = requests.get(f\"{base_uri}/api/agent/{agent_name}\")\n",
    "# pprint(response.json()) MIGHT CONTAIN API SECRET, OMIT\n",
    "assert response.status_code == 200, response.json()"
   ]
  },
  {
   "cell_type": "code",
   "execution_count": 8,
   "metadata": {},
   "outputs": [
    {
     "name": "stdout",
     "output_type": "stream",
     "text": [
      "{'agents': [{'name': 'ci_agent', 'status': False},\n",
      "            {'name': 'negl', 'status': False},\n",
      "            {'name': 'gpt4free', 'status': False}]}\n"
     ]
    }
   ],
   "source": [
    "# Test GET /api/agent\n",
    "# Get all agents\n",
    "response = requests.get(f\"{base_uri}/api/agent\")\n",
    "pprint(response.json())"
   ]
  },
  {
   "attachments": {},
   "cell_type": "markdown",
   "metadata": {},
   "source": [
    "## Agents Commands\n"
   ]
  },
  {
   "cell_type": "code",
   "execution_count": 9,
   "metadata": {},
   "outputs": [
    {
     "name": "stdout",
     "output_type": "stream",
     "text": [
      "{'commands': []}\n"
     ]
    }
   ],
   "source": [
    "# Test GET /api/agent/{agent_name}/command\n",
    "# Get the agent's command\n",
    "response = requests.get(f\"{base_uri}/api/agent/{agent_name}/command\")\n",
    "pprint(response.json())"
   ]
  },
  {
   "cell_type": "code",
   "execution_count": 10,
   "metadata": {},
   "outputs": [],
   "source": [
    "# Test PATCH /api/agent/{agent_name}/command\n",
    "# Update the agent's commands\n",
    "# pprint(agent_commands)\n",
    "# for command_name, enabled in agent_commands.items():\n",
    "#  data = {\"command_name\": \"*\", \"enable\": enabled}\n",
    "#  pprint(data)\n",
    "#  response = requests.patch(f\"{base_uri}/api/agent/{agent_name}/command\", json=data)\n",
    "#  pprint(response.json())"
   ]
  },
  {
   "attachments": {},
   "cell_type": "markdown",
   "metadata": {},
   "source": [
    "## [SMART]Instruct agent\n"
   ]
  },
  {
   "cell_type": "code",
   "execution_count": null,
   "metadata": {},
   "outputs": [],
   "source": [
    "# Test POST /api/agent/{agent_name}/instruct\n",
    "# Instruct the agent\n",
    "# ==> backend: Warning: No context injected due to max tokens.\n",
    "data = {\"prompt\": instruction}\n",
    "response = requests.post(f\"{base_uri}/api/agent/{agent_name}/instruct\", json=data)\n",
    "assert response.status_code == 200, response.json()\n",
    "data = response.json()\n",
    "print(data[\"response\"])"
   ]
  },
  {
   "attachments": {},
   "cell_type": "markdown",
   "metadata": {},
   "source": [
    "## [SMART]Chat with agent\n"
   ]
  },
  {
   "cell_type": "code",
   "execution_count": 23,
   "metadata": {},
   "outputs": [
    {
     "name": "stdout",
     "output_type": "stream",
     "text": [
      "{'response': 'As an AI language model, I do not have the capability to access '\n",
      "             'real-time social media trends. However, you can check popular '\n",
      "             'social media platforms such as Twitter, Instagram, and Facebook '\n",
      "             'to see what topics are currently popular. Additionally, you may '\n",
      "             'also check news websites and online forums to get an idea of '\n",
      "             'what people are talking about.'}\n"
     ]
    }
   ],
   "source": [
    "# Test POST /api/agent/{agent_name}/smartinstruct/{shots}\n",
    "# SMART Instruct the agent\n",
    "# ==> backend: Warning: No context injected due to max tokens.\n",
    "data = {\"prompt\": instruction}\n",
    "response = requests.post(f\"{base_uri}/api/agent/{agent_name}/smartinstruct/{shots}\", json=data)\n",
    "assert response.status_code == 200, response.json()\n",
    "data = response.json()\n",
    "print(data[\"response\"])"
   ]
  },
  {
   "attachments": {},
   "cell_type": "markdown",
   "metadata": {},
   "source": [
    "## [SMART]Chat with agent\n"
   ]
  },
  {
   "cell_type": "code",
   "execution_count": 24,
   "metadata": {},
   "outputs": [
    {
     "name": "stdout",
     "output_type": "stream",
     "text": [
      "{'response': 'Unable to fetch the response, Please try again.'}\n"
     ]
    }
   ],
   "source": [
    "# Test POST /api/{agent_name}/chat\n",
    "# Chat with agent\n",
    "data = {\"prompt\": chat}\n",
    "response = requests.post(f\"{base_uri}/api/agent/{agent_name}/chat\", json=data)\n",
    "assert response.status_code == 200, response.json()\n",
    "pprint(response.json())"
   ]
  },
  {
   "cell_type": "code",
   "execution_count": null,
   "metadata": {},
   "outputs": [],
   "source": [
    "# Test POST /api/agent/{agent_name}/smartchat/{shots}\n",
    "# SmartChat with agent\n",
    "data = {\"prompt\": chat}\n",
    "response = requests.post(f\"{base_uri}/api/agent/{agent_name}/smartchat/{shots}\", json=data)\n",
    "assert response.status_code == 200, response.json()\n",
    "pprint(response.json())"
   ]
  },
  {
   "attachments": {},
   "cell_type": "markdown",
   "metadata": {},
   "source": [
    "## Tasks\n"
   ]
  },
  {
   "cell_type": "code",
   "execution_count": null,
   "metadata": {
    "jupyter": {
     "source_hidden": true
    }
   },
   "outputs": [],
   "source": [
    "# Test POST /api/agent/{agent_name}/task\n",
    "# Create a task for the agent\n",
    "data = {\"objective\": task}\n",
    "response = requests.post(f\"{base_uri}/api/agent/{agent_name}/task\", json=data)\n",
    "print(response.json())"
   ]
  },
  {
   "cell_type": "code",
   "execution_count": null,
   "metadata": {},
   "outputs": [],
   "source": [
    "# Test GET /api/agent/{agent_name}/task/status\n",
    "# Get the agent's task status\n",
    "response = requests.get(f\"{base_uri}/api/agent/{agent_name}/task/status\")\n",
    "pprint(response.json())"
   ]
  },
  {
   "cell_type": "code",
   "execution_count": null,
   "metadata": {},
   "outputs": [],
   "source": [
    "# Test GET /api/agent/{agent_name}/task\n",
    "# Get the agent's task\n",
    "response = requests.get(f\"{base_uri}/api/agent/{agent_name}/task\")\n",
    "pprint(response.json())"
   ]
  },
  {
   "attachments": {},
   "cell_type": "markdown",
   "metadata": {},
   "source": [
    "## Agent history\n"
   ]
  },
  {
   "cell_type": "code",
   "execution_count": null,
   "metadata": {},
   "outputs": [],
   "source": [
    "# Test GET /api/{agent_name}/chat\n",
    "# Get agent history\n",
    "response = requests.get(f\"{base_uri}/api/{agent_name}/chat\")\n",
    "pprint(response.json())"
   ]
  },
  {
   "attachments": {},
   "cell_type": "markdown",
   "metadata": {},
   "source": [
    "## Agent memory operations\n"
   ]
  },
  {
   "cell_type": "code",
   "execution_count": null,
   "metadata": {},
   "outputs": [],
   "source": [
    "# Test DELETE /api/agent/{agent_name}/memory\n",
    "# Clear the agent's memory\n",
    "response = requests.delete(f\"{base_uri}/api/agent/{agent_name}/memory\")\n",
    "pprint(response.json())"
   ]
  },
  {
   "attachments": {},
   "cell_type": "markdown",
   "metadata": {},
   "source": [
    "## Chains\n"
   ]
  },
  {
   "cell_type": "code",
   "execution_count": null,
   "metadata": {},
   "outputs": [],
   "source": [
    "# Test POST /api/chain\n",
    "# Create a chain\n",
    "data = {\"chain_name\": chain_name}\n",
    "response = requests.post(f\"{base_uri}/api/chain\", json=data)\n",
    "pprint(response.json())"
   ]
  },
  {
   "cell_type": "code",
   "execution_count": null,
   "metadata": {},
   "outputs": [],
   "source": [
    "# Test GET /api/chain/{chain_name}\n",
    "# Get the chain\n",
    "response = requests.get(f\"{base_uri}/api/chain/{chain_name}\")\n",
    "pprint(response.json())"
   ]
  },
  {
   "cell_type": "code",
   "execution_count": null,
   "metadata": {},
   "outputs": [],
   "source": [
    "# Test GET /api/chain\n",
    "# Get all chains\n",
    "response = requests.get(f\"{base_uri}/api/chain\")\n",
    "pprint(response.json())"
   ]
  },
  {
   "cell_type": "code",
   "execution_count": null,
   "metadata": {},
   "outputs": [],
   "source": [
    "# Test POST /api/chain/{chain_name}/step\n",
    "# Add a step to the chain\n",
    "data = {\n",
    "    \"step_number\": 1,\n",
    "    \"prompt_type\": \"instruction\",\n",
    "    \"prompt\": \"What is the capital of France?\",\n",
    "}\n",
    "response = requests.post(f\"{base_uri}/api/chain/{chain_name}/step\", json=data)\n",
    "pprint(response.json())"
   ]
  },
  {
   "cell_type": "code",
   "execution_count": null,
   "metadata": {},
   "outputs": [],
   "source": [
    "# Test PUT /api/chain/{chain_name}/step\n",
    "# Update a step in the chain\n",
    "data = {\n",
    "    \"step_number\": 1,\n",
    "#    \"agent_name\": agent, should work without agent name\n",
    "    \"prompt_type\": \"instruction\",\n",
    "    \"prompt\": \"What is the capital of Spain?\",\n",
    "}\n",
    "response = requests.put(f\"{base_uri}/api/chain/{chain_name}/step\", json=data)\n",
    "pprint(response.json())"
   ]
  },
  {
   "cell_type": "code",
   "execution_count": null,
   "metadata": {},
   "outputs": [],
   "source": [
    "# Test POST /api/chain/{chain_name}/step\n",
    "# Add a second step to the chain\n",
    "data = {\n",
    "    \"step_number\": 2,\n",
    "    \"prompt_type\": \"instruction\",\n",
    "    \"prompt\": \"What is the capital of Italy?\",\n",
    "}\n",
    "response = requests.post(f\"{base_uri}/api/chain/{chain_name}/step\", json=data)\n",
    "pprint(response.json())"
   ]
  },
  {
   "cell_type": "code",
   "execution_count": null,
   "metadata": {},
   "outputs": [],
   "source": [
    "# Test PATCH /api/chain/{chain_name}/step/move\n",
    "# Move a step in the chain\n",
    "# =======> 'Chain' object has no attribute 'move_step'\n",
    "# data = {\"old_step_number\": 1, \"new_step_number\": 2, \"prompt_type\": \"instruction\"}\n",
    "# response = requests.patch(f\"{base_uri}/api/chain/{chain_name}/step/move\", json=data)\n",
    "# pprint(response.json())"
   ]
  },
  {
   "cell_type": "code",
   "execution_count": null,
   "metadata": {},
   "outputs": [],
   "source": [
    "# Test DELETE /api/chain/{chain_name}/step/{step_number}\n",
    "# Delete a step in the chain\n",
    "response = requests.delete(f\"{base_uri}/api/chain/{chain_name}/step/2\")\n",
    "pprint(response.json())"
   ]
  },
  {
   "cell_type": "code",
   "execution_count": null,
   "metadata": {},
   "outputs": [],
   "source": [
    "# Test GET /api/chain/{chain_name}/step\n",
    "# Get all steps in a chain\n",
    "response = requests.get(f\"{base_uri}/api/chain/{chain_name}/step\")\n",
    "pprint(response.json())"
   ]
  },
  {
   "cell_type": "code",
   "execution_count": null,
   "metadata": {},
   "outputs": [],
   "source": [
    "# Test DELETE /api/chain/{chain_name}\n",
    "# Delete the chain\n",
    "response = requests.delete(f\"{base_uri}/api/chain/{chain_name}\")\n",
    "pprint(response.json())"
   ]
  },
  {
   "attachments": {},
   "cell_type": "markdown",
   "metadata": {},
   "source": [
    "## Prompts\n"
   ]
  },
  {
   "cell_type": "code",
   "execution_count": null,
   "metadata": {},
   "outputs": [],
   "source": [
    "# Test POST /api/prompt\n",
    "# Add a prompt\n",
    "data = {\"prompt_name\": prompt_name, \"prompt\": prompt}\n",
    "response = requests.post(f\"{base_uri}/api/prompt\", json=data)\n",
    "pprint(response.json())"
   ]
  },
  {
   "cell_type": "code",
   "execution_count": null,
   "metadata": {},
   "outputs": [],
   "source": [
    "# Test GET /api/prompt/{prompt_name}\n",
    "# Get the prompt\n",
    "response = requests.get(f\"{base_uri}/api/prompt/{prompt_name}\")\n",
    "pprint(response.json())"
   ]
  },
  {
   "cell_type": "code",
   "execution_count": null,
   "metadata": {},
   "outputs": [],
   "source": [
    "# Test GET /api/prompt\n",
    "# Get all prompts\n",
    "response = requests.get(f\"{base_uri}/api/prompt\")\n",
    "pprint(response.json())"
   ]
  },
  {
   "cell_type": "code",
   "execution_count": null,
   "metadata": {},
   "outputs": [],
   "source": [
    "# Test DELETE /api/prompt/{prompt_name}\n",
    "# Delete the prompt\n",
    "response = requests.delete(f\"{base_uri}/api/prompt/{prompt_name}\")\n",
    "pprint(response.json())"
   ]
  },
  {
   "attachments": {},
   "cell_type": "markdown",
   "metadata": {},
   "source": [
    "## Final agent tests and cleanup\n"
   ]
  },
  {
   "cell_type": "code",
   "execution_count": null,
   "metadata": {},
   "outputs": [],
   "source": [
    "# Test PUT /api/agent/{agent_name}\n",
    "# Rename the agent\n",
    "data = {\"new_name\": renamed_agent_name}\n",
    "response = requests.put(f\"{base_uri}/api/agent/{agent_name}\", json=data)\n",
    "pprint(response.json())"
   ]
  },
  {
   "cell_type": "code",
   "execution_count": null,
   "metadata": {},
   "outputs": [],
   "source": [
    "# Test DELETE /api/agent/{agent_name}\n",
    "# Delete the agent\n",
    "response = requests.delete(f\"{base_uri}/api/agent/{renamed_agent_name}\")\n",
    "pprint(response.json())"
   ]
  },
  {
   "attachments": {},
   "cell_type": "markdown",
   "metadata": {},
   "source": [
    "## General TODO: Move/rename functions as project matures\n"
   ]
  }
 ],
 "metadata": {
  "kernelspec": {
   "display_name": "Python 3 (ipykernel)",
   "language": "python",
   "name": "python3"
  },
  "language_info": {
   "codemirror_mode": {
    "name": "ipython",
    "version": 3
   },
   "file_extension": ".py",
   "mimetype": "text/x-python",
   "name": "python",
   "nbconvert_exporter": "python",
   "pygments_lexer": "ipython3",
   "version": "3.10.6"
  }
 },
 "nbformat": 4,
 "nbformat_minor": 4
}
