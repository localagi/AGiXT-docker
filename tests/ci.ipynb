{
 "cells": [
  {
   "attachments": {},
   "cell_type": "markdown",
   "metadata": {},
   "source": [
    "## AGiXT Notebook\n",
    "\n",
    "### Jupyter Notebook for all AGiXT API endpoints\n",
    "\n",
    "First set the uri of your AGiXT server, the Agent's name, and a command name to test with.\n"
   ]
  },
  {
   "cell_type": "code",
   "execution_count": 14,
   "metadata": {},
   "outputs": [],
   "source": [
    "import requests\n",
    "from pprint import pprint\n",
    "\n",
    "import os\n",
    "OPENAI_API_KEY = os.getenv('API_KEY')\n",
    "\n",
    "base_uri = \"http://192.168.1.36:7437\"\n",
    "\n",
    "# AGENT settings\n",
    "agent_name = \"ci_agent\"\n",
    "\n",
    "agent_settings = {\"provider\": \"gpt4free\"}\n",
    "\n",
    "agent_settings_openai = {\"provider\": \"openai\",\n",
    "                      \"OPENAI_API_KEY\": OPENAI_API_KEY,\n",
    "                      \"AI_MODEL\": \"gpt-4\",\n",
    "                      \"AI_TEMPERATURE\": \"0.7\",\n",
    "                      \"MAX_TOKENS\": \"6000\",\n",
    "                      \"embedder\": \"openai\"}\n",
    "\n",
    "renamed_agent_name = \"ci_agent_new\"\n",
    "\n",
    "# SMART settings\n",
    "shots = 3\n",
    "\n",
    "# INSTRUCTION settings\n",
    "instruction = \"Write a tweet about AI.\"\n",
    "\n",
    "# CHAT settings\n",
    "chat = \"Which is the most trending topic in social media?\"\n",
    "\n",
    "# TASK settings\n",
    "task = instruction\n",
    "\n",
    "\n",
    "prompt_name = \"ci_prompt\"\n",
    "prompt = \"What is the capital of France?\"\n",
    "\n",
    "OPENAI_API_KEY=\"TBD\",\n",
    "\n"
   ]
  },
  {
   "attachments": {},
   "cell_type": "markdown",
   "metadata": {},
   "source": [
    "## Providers\n"
   ]
  },
  {
   "cell_type": "code",
   "execution_count": 15,
   "metadata": {},
   "outputs": [
    {
     "name": "stdout",
     "output_type": "stream",
     "text": [
      "{'providers': ['fastchat',\n",
      "               'gpugpt4all',\n",
      "               'bing',\n",
      "               'llamacppapi',\n",
      "               'llamacpp',\n",
      "               'oobabooga',\n",
      "               'gpt4free',\n",
      "               'chatgpt',\n",
      "               'palm',\n",
      "               'gpt4all',\n",
      "               'openai',\n",
      "               'huggingchat',\n",
      "               'claude',\n",
      "               'transformer',\n",
      "               'kobold',\n",
      "               'azure',\n",
      "               'bard']}\n"
     ]
    }
   ],
   "source": [
    "# Test GET /api/provider\n",
    "response = requests.get(f\"{base_uri}/api/provider\")\n",
    "pprint(response.json())"
   ]
  },
  {
   "cell_type": "code",
   "execution_count": 16,
   "metadata": {},
   "outputs": [
    {
     "name": "stdout",
     "output_type": "stream",
     "text": [
      "{'settings': ['OPENAI_API_KEY', 'AI_MODEL', 'AI_TEMPERATURE', 'MAX_TOKENS']}\n"
     ]
    }
   ],
   "source": [
    "# Test GET /api/provider\n",
    "provider = \"openai\"\n",
    "response = requests.get(f\"{base_uri}/api/provider/{provider}\")\n",
    "pprint(response.json())\n"
   ]
  },
  {
   "cell_type": "code",
   "execution_count": 17,
   "metadata": {},
   "outputs": [
    {
     "name": "stdout",
     "output_type": "stream",
     "text": [
      "{'providers': ['azure',\n",
      "               'cohere',\n",
      "               'default',\n",
      "               'google_palm',\n",
      "               'google_vertex',\n",
      "               'large_local',\n",
      "               'llamacpp',\n",
      "               'openai']}\n"
     ]
    }
   ],
   "source": [
    "# Test GET /api/embedding_providers\n",
    "response = requests.get(f\"{base_uri}/api/embedding_providers\")\n",
    "pprint(response.json())"
   ]
  },
  {
   "attachments": {},
   "cell_type": "markdown",
   "metadata": {},
   "source": [
    "## Agents\n"
   ]
  },
  {
   "cell_type": "code",
   "execution_count": 18,
   "metadata": {},
   "outputs": [
    {
     "name": "stdout",
     "output_type": "stream",
     "text": [
      "{'agent_file': 'ci_agent.yaml', 'message': 'Agent added'}\n"
     ]
    }
   ],
   "source": [
    "# Test POST /api/agent\n",
    "# Add an agent\n",
    "data = {\"agent_name\": agent_name, \"settings\": agent_settings_openai }\n",
    "response = requests.post(f\"{base_uri}/api/agent\", json=data)\n",
    "pprint(response.json())\n"
   ]
  },
  {
   "cell_type": "code",
   "execution_count": 19,
   "metadata": {
    "scrolled": true
   },
   "outputs": [
    {
     "name": "stdout",
     "output_type": "stream",
     "text": [
      "{'agent': {'commands': {'Analyze Pull Request': False,\n",
      "                        'Append to File': False,\n",
      "                        'Ask AI Agent ci_agent': False,\n",
      "                        'Ask AI Agent gpt4free': False,\n",
      "                        'Check Local File Access': False,\n",
      "                        'Clone Github Repository': False,\n",
      "                        'Create a new command': False,\n",
      "                        'Delete File': False,\n",
      "                        'Evaluate Code': False,\n",
      "                        'Execute Python File': False,\n",
      "                        'Execute Shell': False,\n",
      "                        'Get Datetime': False,\n",
      "                        'Get Response': False,\n",
      "                        'Google Search': False,\n",
      "                        'Improve Code': False,\n",
      "                        'Instruct AI Agent ci_agent': False,\n",
      "                        'Instruct AI Agent gpt4free': False,\n",
      "                        'Is Valid URL': False,\n",
      "                        'Perform Automated Testing': False,\n",
      "                        'Read Audio': False,\n",
      "                        'Read Audio from File': False,\n",
      "                        'Read File': False,\n",
      "                        'Run CI-CD Pipeline': False,\n",
      "                        'Sanitize URL': False,\n",
      "                        'Scrape Links': False,\n",
      "                        'Scrape Links with Playwright': False,\n",
      "                        'Scrape Text': False,\n",
      "                        'Scrape Text with Playwright': False,\n",
      "                        'Scrape Text with Selenium': False,\n",
      "                        'Search Files': False,\n",
      "                        'Searx Search': False,\n",
      "                        'Speak with TTS': False,\n",
      "                        'Write Tests': False,\n",
      "                        'Write to File': False},\n",
      "           'settings': {'provider': 'gpt4free'}}}\n"
     ]
    }
   ],
   "source": [
    "# Test GET /api/agent/{agent_name}\n",
    "# Get the agent\n",
    "response = requests.get(f\"{base_uri}/api/agent/{agent_name}\")\n",
    "pprint(response.json())"
   ]
  },
  {
   "cell_type": "code",
   "execution_count": 20,
   "metadata": {},
   "outputs": [
    {
     "name": "stdout",
     "output_type": "stream",
     "text": [
      "{'agents': [{'name': 'gpt4free', 'status': False},\n",
      "            {'name': 'ci_agent', 'status': False}]}\n"
     ]
    }
   ],
   "source": [
    "# Test GET /api/agent\n",
    "# Get all agents\n",
    "response = requests.get(f\"{base_uri}/api/agent\")\n",
    "pprint(response.json())"
   ]
  },
  {
   "attachments": {},
   "cell_type": "markdown",
   "metadata": {},
   "source": [
    "## [SMART]Instruct agent\n"
   ]
  },
  {
   "cell_type": "code",
   "execution_count": 21,
   "metadata": {},
   "outputs": [
    {
     "name": "stdout",
     "output_type": "stream",
     "text": [
      "Can you imagine a world without AI? From Siri to self-driving cars, AI has become an integral part of our lives. As AI continues to evolve and improve, it will revolutionize industries and change the way we work and live. #ArtificialIntelligence #FutureTech\n"
     ]
    }
   ],
   "source": [
    "# Test POST /api/agent/{agent_name}/instruct\n",
    "# Instruct the agent\n",
    "# ==> backend: Warning: No context injected due to max tokens.\n",
    "data = {\"prompt\": instruction}\n",
    "response = requests.post(f\"{base_uri}/api/agent/{agent_name}/instruct\", json=data)\n",
    "assert response.status_code == 200, response.json()\n",
    "data = response.json()\n",
    "print(data[\"response\"])"
   ]
  },
  {
   "cell_type": "code",
   "execution_count": 22,
   "metadata": {},
   "outputs": [
    {
     "name": "stdout",
     "output_type": "stream",
     "text": [
      "Resolver Agent Response (cleaned):\n",
      "To make an HTTP request in JavaScript, you can use the `fetch()` API. Here is an example of how to make a GET request:\n",
      "\n",
      "```\n",
      "fetch('https://www.example.com/data.json')\n",
      "  .then(response => response.json())\n",
      "  .then(data => {\n",
      "    // do something with the data\n",
      "  });\n",
      "```\n",
      "\n",
      "Execution Agent Response (summary):\n",
      "The Execution Agent did not execute any commands related to the task of writing a tweet about AI.\n",
      "\n",
      "Cleaned up response:\n",
      "To make an HTTP request in JavaScript, use the `fetch()` API. Here is an example of how to make a GET request:\n",
      "\n",
      "```\n",
      "fetch('https://www.example.com/data.json')\n",
      "  .then(response => response.json())\n",
      "  .then(data => {\n",
      "    // do something with the data\n",
      "  });\n",
      "```\n",
      "\n",
      "Note that you can use `#AI` or other hashtags to make your tweet more discoverable. The execution agent did not find any commands related to the task.\n"
     ]
    }
   ],
   "source": [
    "# Test POST /api/agent/{agent_name}/smartinstruct/{shots}\n",
    "# SMART Instruct the agent\n",
    "# ==> backend: Warning: No context injected due to max tokens.\n",
    "data = {\"prompt\": instruction}\n",
    "response = requests.post(f\"{base_uri}/api/agent/{agent_name}/smartinstruct/{shots}\", json=data)\n",
    "assert response.status_code == 200, response.json()\n",
    "data = response.json()\n",
    "print(data[\"response\"])"
   ]
  },
  {
   "attachments": {},
   "cell_type": "markdown",
   "metadata": {},
   "source": [
    "## [SMART]Chat with agent\n"
   ]
  },
  {
   "cell_type": "code",
   "execution_count": 23,
   "metadata": {},
   "outputs": [
    {
     "name": "stdout",
     "output_type": "stream",
     "text": [
      "{'response': 'As an AI language model, I do not have the capability to access '\n",
      "             'real-time social media trends. However, you can check popular '\n",
      "             'social media platforms such as Twitter, Instagram, and Facebook '\n",
      "             'to see what topics are currently popular. Additionally, you may '\n",
      "             'also check news websites and online forums to get an idea of '\n",
      "             'what people are talking about.'}\n"
     ]
    }
   ],
   "source": [
    "# Test POST /api/{agent_name}/chat\n",
    "# Chat with agent\n",
    "data = {\"prompt\": chat}\n",
    "response = requests.post(f\"{base_uri}/api/agent/{agent_name}/chat\", json=data)\n",
    "assert response.status_code == 200, response.json()\n",
    "pprint(response.json())"
   ]
  },
  {
   "cell_type": "code",
   "execution_count": 24,
   "metadata": {},
   "outputs": [
    {
     "name": "stdout",
     "output_type": "stream",
     "text": [
      "{'response': 'Unable to fetch the response, Please try again.'}\n"
     ]
    }
   ],
   "source": [
    "# Test POST /api/agent/{agent_name}/smartchat/{shots}\n",
    "# SmartChat with agent\n",
    "data = {\"prompt\": chat}\n",
    "response = requests.post(f\"{base_uri}/api/agent/{agent_name}/smartchat/{shots}\", json=data)\n",
    "assert response.status_code == 200, response.json()\n",
    "pprint(response.json())"
   ]
  },
  {
   "attachments": {},
   "cell_type": "markdown",
   "metadata": {},
   "source": [
    "## Tasks\n"
   ]
  },
  {
   "cell_type": "code",
   "execution_count": null,
   "metadata": {},
   "outputs": [],
   "source": [
    "# Test POST /api/agent/{agent_name}/task\n",
    "# Create a task for the agent\n",
    "# ==> backend: Warning: No context injected due to max tokens.\n",
    "#data = {\"objective\": task}\n",
    "#response = requests.post(f\"{base_uri}/api/agent/{agent_name}/task\", json=data)\n",
    "#print(response.json())"
   ]
  },
  {
   "cell_type": "code",
   "execution_count": null,
   "metadata": {},
   "outputs": [],
   "source": [
    "# Test GET /api/agent/{agent_name}/task/status\n",
    "# Get the agent's task status\n",
    "#response = requests.get(f\"{base_uri}/api/agent/{agent_name}/task/status\")\n",
    "#pprint(response.json())"
   ]
  },
  {
   "cell_type": "code",
   "execution_count": null,
   "metadata": {},
   "outputs": [],
   "source": [
    "# Test GET /api/agent/{agent_name}/task\n",
    "# Get the agent's task\n",
    "# response = requests.get(f\"{base_uri}/api/agent/{agent_name}/task\")\n",
    "# pprint(response.json())"
   ]
  },
  {
   "attachments": {},
   "cell_type": "markdown",
   "metadata": {},
   "source": [
    "## Agent historyBasic operations\n"
   ]
  },
  {
   "cell_type": "code",
   "execution_count": null,
   "metadata": {},
   "outputs": [],
   "source": [
    "# Test GET /api/{agent_name}/chat\n",
    "# Get agent history\n",
    "response = requests.get(f\"{base_uri}/api/{agent_name}/chat\")\n",
    "pprint(response.json())"
   ]
  },
  {
   "attachments": {},
   "cell_type": "markdown",
   "metadata": {},
   "source": [
    "## Agent memory operations\n"
   ]
  },
  {
   "cell_type": "code",
   "execution_count": null,
   "metadata": {},
   "outputs": [],
   "source": [
    "# Test DELETE /api/agent/{agent_name}/memory\n",
    "# Clear the agent's memory\n",
    "response = requests.delete(f\"{base_uri}/api/agent/{agent_name}/memory\")\n",
    "pprint(response.json())"
   ]
  },
  {
   "attachments": {},
   "cell_type": "markdown",
   "metadata": {},
   "source": [
    "## Chains\n"
   ]
  },
  {
   "cell_type": "code",
   "execution_count": null,
   "metadata": {},
   "outputs": [],
   "source": [
    "# Test POST /api/chain\n",
    "# Create a chain\n",
    "data = {\"chain_name\": chain_name}\n",
    "response = requests.post(f\"{base_uri}/api/chain\", json=data)\n",
    "pprint(response.json())"
   ]
  },
  {
   "cell_type": "code",
   "execution_count": null,
   "metadata": {},
   "outputs": [],
   "source": [
    "# Test GET /api/chain/{chain_name}\n",
    "# Get the chain\n",
    "response = requests.get(f\"{base_uri}/api/chain/{chain_name}\")\n",
    "pprint(response.json())"
   ]
  },
  {
   "cell_type": "code",
   "execution_count": null,
   "metadata": {},
   "outputs": [],
   "source": [
    "# Test GET /api/chain\n",
    "# Get all chains\n",
    "response = requests.get(f\"{base_uri}/api/chain\")\n",
    "pprint(response.json())"
   ]
  },
  {
   "cell_type": "code",
   "execution_count": null,
   "metadata": {},
   "outputs": [],
   "source": [
    "# Test POST /api/chain/{chain_name}/step\n",
    "# Add a step to the chain\n",
    "data = {\n",
    "    \"step_number\": 1,\n",
    "    \"prompt_type\": \"instruction\",\n",
    "    \"prompt\": \"What is the capital of France?\",\n",
    "}\n",
    "response = requests.post(f\"{base_uri}/api/chain/{chain_name}/step\", json=data)\n",
    "pprint(response.json())"
   ]
  },
  {
   "cell_type": "code",
   "execution_count": null,
   "metadata": {},
   "outputs": [],
   "source": [
    "# Test PUT /api/chain/{chain_name}/step\n",
    "# Update a step in the chain\n",
    "data = {\n",
    "    \"step_number\": 1,\n",
    "#    \"agent_name\": agent, should work without agent name\n",
    "    \"prompt_type\": \"instruction\",\n",
    "    \"prompt\": \"What is the capital of Spain?\",\n",
    "}\n",
    "response = requests.put(f\"{base_uri}/api/chain/{chain_name}/step\", json=data)\n",
    "pprint(response.json())"
   ]
  },
  {
   "cell_type": "code",
   "execution_count": null,
   "metadata": {},
   "outputs": [],
   "source": [
    "# Test POST /api/chain/{chain_name}/step\n",
    "# Add a second step to the chain\n",
    "data = {\n",
    "    \"step_number\": 2,\n",
    "    \"prompt_type\": \"instruction\",\n",
    "    \"prompt\": \"What is the capital of Italy?\",\n",
    "}\n",
    "response = requests.post(f\"{base_uri}/api/chain/{chain_name}/step\", json=data)\n",
    "pprint(response.json())"
   ]
  },
  {
   "cell_type": "code",
   "execution_count": null,
   "metadata": {},
   "outputs": [],
   "source": [
    "# Test PATCH /api/chain/{chain_name}/step/move\n",
    "# Move a step in the chain\n",
    "# =======> 'Chain' object has no attribute 'move_step'\n",
    "# data = {\"old_step_number\": 1, \"new_step_number\": 2, \"prompt_type\": \"instruction\"}\n",
    "# response = requests.patch(f\"{base_uri}/api/chain/{chain_name}/step/move\", json=data)\n",
    "# pprint(response.json())"
   ]
  },
  {
   "cell_type": "code",
   "execution_count": null,
   "metadata": {},
   "outputs": [],
   "source": [
    "# Test DELETE /api/chain/{chain_name}/step/{step_number}\n",
    "# Delete a step in the chain\n",
    "response = requests.delete(f\"{base_uri}/api/chain/{chain_name}/step/2\")\n",
    "pprint(response.json())"
   ]
  },
  {
   "cell_type": "code",
   "execution_count": null,
   "metadata": {},
   "outputs": [],
   "source": [
    "# Test GET /api/chain/{chain_name}/step\n",
    "# Get all steps in a chain\n",
    "response = requests.get(f\"{base_uri}/api/chain/{chain_name}/step\")\n",
    "pprint(response.json())"
   ]
  },
  {
   "cell_type": "code",
   "execution_count": null,
   "metadata": {},
   "outputs": [],
   "source": [
    "# Test DELETE /api/chain/{chain_name}\n",
    "# Delete the chain\n",
    "response = requests.delete(f\"{base_uri}/api/chain/{chain_name}\")\n",
    "pprint(response.json())"
   ]
  },
  {
   "attachments": {},
   "cell_type": "markdown",
   "metadata": {},
   "source": [
    "## Prompts\n"
   ]
  },
  {
   "cell_type": "code",
   "execution_count": null,
   "metadata": {},
   "outputs": [],
   "source": [
    "# Test POST /api/prompt\n",
    "# Add a prompt\n",
    "data = {\"prompt_name\": prompt_name, \"prompt\": prompt}\n",
    "response = requests.post(f\"{base_uri}/api/prompt\", json=data)\n",
    "pprint(response.json())"
   ]
  },
  {
   "cell_type": "code",
   "execution_count": null,
   "metadata": {},
   "outputs": [],
   "source": [
    "# Test GET /api/prompt/{prompt_name}\n",
    "# Get the prompt\n",
    "response = requests.get(f\"{base_uri}/api/prompt/{prompt_name}\")\n",
    "pprint(response.json())"
   ]
  },
  {
   "cell_type": "code",
   "execution_count": null,
   "metadata": {},
   "outputs": [],
   "source": [
    "# Test GET /api/prompt\n",
    "# Get all prompts\n",
    "response = requests.get(f\"{base_uri}/api/prompt\")\n",
    "pprint(response.json())"
   ]
  },
  {
   "cell_type": "code",
   "execution_count": null,
   "metadata": {},
   "outputs": [],
   "source": [
    "# Test DELETE /api/prompt/{prompt_name}\n",
    "# Delete the prompt\n",
    "response = requests.delete(f\"{base_uri}/api/prompt/{prompt_name}\")\n",
    "pprint(response.json())"
   ]
  },
  {
   "attachments": {},
   "cell_type": "markdown",
   "metadata": {},
   "source": [
    "## Command\n"
   ]
  },
  {
   "cell_type": "code",
   "execution_count": null,
   "metadata": {},
   "outputs": [],
   "source": [
    "# Test GET /api/agent/{agent_name}/command\n",
    "# Get the agent's command\n",
    "response = requests.get(f\"{base_uri}/api/agent/{agent_name}/command\")\n",
    "pprint(response.json())"
   ]
  },
  {
   "cell_type": "code",
   "execution_count": null,
   "metadata": {},
   "outputs": [],
   "source": [
    "# Test PATCH /api/agent/{agent_name}/command\n",
    "# Update the agent's command\n",
    "data = {\"command_name\": \"*\", \"enable\": True}\n",
    "response = requests.patch(f\"{base_uri}/api/agent/{agent_name}/command\", json=data)\n",
    "pprint(response.json())"
   ]
  },
  {
   "attachments": {},
   "cell_type": "markdown",
   "metadata": {},
   "source": [
    "## Final agent tests and cleanup\n"
   ]
  },
  {
   "cell_type": "code",
   "execution_count": null,
   "metadata": {},
   "outputs": [],
   "source": [
    "# Test PUT /api/agent/{agent_name}\n",
    "# Rename the agent\n",
    "data = {\"new_name\": renamed_agent_name}\n",
    "response = requests.put(f\"{base_uri}/api/agent/{agent_name}\", json=data)\n",
    "pprint(response.json())"
   ]
  },
  {
   "cell_type": "code",
   "execution_count": null,
   "metadata": {},
   "outputs": [],
   "source": [
    "# Test DELETE /api/agent/{agent_name}\n",
    "# Delete the agent\n",
    "response = requests.delete(f\"{base_uri}/api/agent/{renamed_agent_name}\")\n",
    "pprint(response.json())"
   ]
  },
  {
   "attachments": {},
   "cell_type": "markdown",
   "metadata": {},
   "source": [
    "## General TODO: Move/rename functions as project matures\n"
   ]
  }
 ],
 "metadata": {
  "kernelspec": {
   "display_name": "Python 3 (ipykernel)",
   "language": "python",
   "name": "python3"
  },
  "language_info": {
   "codemirror_mode": {
    "name": "ipython",
    "version": 3
   },
   "file_extension": ".py",
   "mimetype": "text/x-python",
   "name": "python",
   "nbconvert_exporter": "python",
   "pygments_lexer": "ipython3",
   "version": "3.10.6"
  }
 },
 "nbformat": 4,
 "nbformat_minor": 4
}
