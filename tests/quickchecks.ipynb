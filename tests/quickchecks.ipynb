{
 "cells": [
  {
   "attachments": {},
   "cell_type": "markdown",
   "metadata": {},
   "source": [
    "## AGiXT Notebook\n",
    "\n",
    "### Jupyter Notebook for all AGiXT API endpoints\n",
    "\n",
    "First set the uri of your AGiXT server, the Agent's name, and a command name to test with.\n"
   ]
  },
  {
   "cell_type": "code",
   "execution_count": 15,
   "metadata": {
    "scrolled": true
   },
   "outputs": [],
   "source": [
    "import requests\n",
    "from pprint import pprint\n",
    "\n",
    "from cfg import cfg\n",
    "\n",
    "base_uri = \"http://localhost:7437\"\n",
    "\n",
    "agent_name = \"test_quickcheck_agent\"\n",
    "agent_settings = cfg[\"agent_settings_gpt4free\"]\n",
    "\n",
    "chat = cfg[\"message-3\"]\n",
    "\n",
    "command_name = \"Scrape Text\"\n",
    "command_enabled = True\n",
    "\n",
    "chain_name = \"test_quickcheck_chain\"\n",
    "\n"
   ]
  },
  {
   "attachments": {},
   "cell_type": "markdown",
   "metadata": {},
   "source": [
    "## Providers\n"
   ]
  },
  {
   "cell_type": "code",
   "execution_count": 16,
   "metadata": {},
   "outputs": [
    {
     "name": "stdout",
     "output_type": "stream",
     "text": [
      "{'providers': ['fastchat',\n",
      "               'oobabooga',\n",
      "               'palm',\n",
      "               'azure',\n",
      "               'transformer',\n",
      "               'openai',\n",
      "               'kobold',\n",
      "               'gpt4all',\n",
      "               'gpt4free',\n",
      "               'huggingchat',\n",
      "               'gpugpt4all',\n",
      "               'chatgpt',\n",
      "               'bard',\n",
      "               'huggingface',\n",
      "               'claude',\n",
      "               'llamacppapi',\n",
      "               'bing',\n",
      "               'llamacpp']}\n"
     ]
    }
   ],
   "source": [
    "# Test GET /api/provider\n",
    "response = requests.get(f\"{base_uri}/api/provider\")\n",
    "pprint(response.json())"
   ]
  },
  {
   "cell_type": "code",
   "execution_count": 17,
   "metadata": {},
   "outputs": [
    {
     "name": "stdout",
     "output_type": "stream",
     "text": [
      "{'settings': ['OPENAI_API_KEY', 'AI_MODEL', 'AI_TEMPERATURE', 'MAX_TOKENS']}\n"
     ]
    }
   ],
   "source": [
    "# Test GET /api/provider\n",
    "provider = \"openai\"\n",
    "response = requests.get(f\"{base_uri}/api/provider/{provider}\")\n",
    "pprint(response.json())\n"
   ]
  },
  {
   "cell_type": "code",
   "execution_count": 18,
   "metadata": {},
   "outputs": [
    {
     "name": "stdout",
     "output_type": "stream",
     "text": [
      "{'providers': ['azure',\n",
      "               'cohere',\n",
      "               'default',\n",
      "               'google_palm',\n",
      "               'google_vertex',\n",
      "               'large_local',\n",
      "               'llamacpp',\n",
      "               'openai']}\n"
     ]
    }
   ],
   "source": [
    "# Test GET /api/embedding_providers\n",
    "response = requests.get(f\"{base_uri}/api/embedding_providers\")\n",
    "pprint(response.json())"
   ]
  },
  {
   "attachments": {},
   "cell_type": "markdown",
   "metadata": {},
   "source": [
    "## Agents\n"
   ]
  },
  {
   "cell_type": "code",
   "execution_count": 19,
   "metadata": {},
   "outputs": [
    {
     "name": "stdout",
     "output_type": "stream",
     "text": [
      "{'agent_file': 'test_quickcheck_agent.yaml', 'message': 'Agent added'}\n"
     ]
    }
   ],
   "source": [
    "# Test POST /api/agent\n",
    "# Add an agent\n",
    "data = {\"agent_name\": agent_name, \"settings\": agent_settings }\n",
    "response = requests.post(f\"{base_uri}/api/agent\", json=data)\n",
    "pprint(response.json())\n"
   ]
  },
  {
   "cell_type": "code",
   "execution_count": 20,
   "metadata": {
    "scrolled": true
   },
   "outputs": [
    {
     "name": "stdout",
     "output_type": "stream",
     "text": [
      "{'agent': {'commands': {'Analyze Pull Request': False,\n",
      "                        'Append to File': False,\n",
      "                        'Ask AI Agent ci_agent': False,\n",
      "                        'Ask AI Agent gpt4free': False,\n",
      "                        'Ask AI Agent negl': False,\n",
      "                        'Ask AI Agent test_quickcheck': False,\n",
      "                        'Ask AI Agent test_quickcheck_agent': False,\n",
      "                        'Check Local File Access': False,\n",
      "                        'Clone Github Repository': False,\n",
      "                        'Create a new command': False,\n",
      "                        'Delete File': False,\n",
      "                        'Evaluate Code': False,\n",
      "                        'Execute Python File': False,\n",
      "                        'Execute Shell': False,\n",
      "                        'Get Datetime': False,\n",
      "                        'Get Response': False,\n",
      "                        'Google Search': False,\n",
      "                        'Improve Code': False,\n",
      "                        'Instruct AI Agent ci_agent': False,\n",
      "                        'Instruct AI Agent gpt4free': False,\n",
      "                        'Instruct AI Agent negl': False,\n",
      "                        'Instruct AI Agent test_quickcheck': False,\n",
      "                        'Instruct AI Agent test_quickcheck_agent': False,\n",
      "                        'Is Valid URL': False,\n",
      "                        'Perform Automated Testing': False,\n",
      "                        'Read Audio': False,\n",
      "                        'Read Audio from File': False,\n",
      "                        'Read File': False,\n",
      "                        'Run CI-CD Pipeline': False,\n",
      "                        'Sanitize URL': False,\n",
      "                        'Scrape Links': False,\n",
      "                        'Scrape Links with Playwright': False,\n",
      "                        'Scrape Text': False,\n",
      "                        'Scrape Text with Playwright': False,\n",
      "                        'Scrape Text with Selenium': False,\n",
      "                        'Search Files': False,\n",
      "                        'Speak with TTS': False,\n",
      "                        'Use The Search Engine': False,\n",
      "                        'Write Tests': False,\n",
      "                        'Write to File': False},\n",
      "           'settings': {'provider': 'gpt4free'}}}\n"
     ]
    }
   ],
   "source": [
    "# Test GET /api/agent/{agent_name}\n",
    "# Get the agent\n",
    "response = requests.get(f\"{base_uri}/api/agent/{agent_name}\")\n",
    "pprint(response.json())\n",
    "assert response.status_code == 200, response.json()"
   ]
  },
  {
   "cell_type": "code",
   "execution_count": 21,
   "metadata": {},
   "outputs": [
    {
     "name": "stdout",
     "output_type": "stream",
     "text": [
      "{'agents': [{'name': 'ci_agent', 'status': False},\n",
      "            {'name': 'test_quickcheck', 'status': False},\n",
      "            {'name': 'negl', 'status': False},\n",
      "            {'name': 'test_quickcheck_agent', 'status': False},\n",
      "            {'name': 'gpt4free', 'status': False}]}\n"
     ]
    }
   ],
   "source": [
    "# Test GET /api/agent\n",
    "# Get all agents\n",
    "response = requests.get(f\"{base_uri}/api/agent\")\n",
    "pprint(response.json())"
   ]
  },
  {
   "attachments": {},
   "cell_type": "markdown",
   "metadata": {},
   "source": [
    "## Chat, History and Memory\n"
   ]
  },
  {
   "cell_type": "code",
   "execution_count": 22,
   "metadata": {},
   "outputs": [
    {
     "name": "stdout",
     "output_type": "stream",
     "text": [
      "{'response': 'The capital of France is Paris.'}\n"
     ]
    }
   ],
   "source": [
    "# Test POST /api/{agent_name}/chat\n",
    "# Chat with agent\n",
    "data = {\"prompt\": chat}\n",
    "response = requests.post(f\"{base_uri}/api/agent/{agent_name}/chat\", json=data)\n",
    "assert response.status_code == 200, response.json()\n",
    "pprint(response.json())"
   ]
  },
  {
   "cell_type": "code",
   "execution_count": 23,
   "metadata": {},
   "outputs": [
    {
     "name": "stdout",
     "output_type": "stream",
     "text": [
      "{'chat_history': [{'USER': 'What is the capital of france?'},\n",
      "                  {'test_quickcheck_agent': 'The capital of France is Paris.'}]}\n"
     ]
    }
   ],
   "source": [
    "# Test GET /api/{agent_name}/chat\n",
    "# Get agent history\n",
    "response = requests.get(f\"{base_uri}/api/{agent_name}/chat\")\n",
    "assert response.status_code == 200, response.json()\n",
    "# assert response.... that it has history\n",
    "pprint(response.json())"
   ]
  },
  {
   "cell_type": "code",
   "execution_count": 24,
   "metadata": {},
   "outputs": [
    {
     "name": "stdout",
     "output_type": "stream",
     "text": [
      "{'message': 'Memories for agent test_quickcheck_agent deleted.'}\n"
     ]
    }
   ],
   "source": [
    "# Test DELETE /api/agent/{agent_name}/memory\n",
    "# Clear the agent's memory\n",
    "response = requests.delete(f\"{base_uri}/api/agent/{agent_name}/memory\")\n",
    "pprint(response.json())"
   ]
  },
  {
   "attachments": {},
   "cell_type": "markdown",
   "metadata": {},
   "source": [
    "## Commands\n",
    "\n"
   ]
  },
  {
   "cell_type": "code",
   "execution_count": 25,
   "metadata": {},
   "outputs": [
    {
     "name": "stdout",
     "output_type": "stream",
     "text": [
      "{'commands': {'Analyze Pull Request': False,\n",
      "              'Append to File': False,\n",
      "              'Ask AI Agent ci_agent': False,\n",
      "              'Ask AI Agent gpt4free': False,\n",
      "              'Ask AI Agent negl': False,\n",
      "              'Ask AI Agent test_quickcheck': False,\n",
      "              'Ask AI Agent test_quickcheck_agent': False,\n",
      "              'Check Local File Access': False,\n",
      "              'Clone Github Repository': False,\n",
      "              'Create a new command': False,\n",
      "              'Delete File': False,\n",
      "              'Evaluate Code': False,\n",
      "              'Execute Python File': False,\n",
      "              'Execute Shell': False,\n",
      "              'Get Datetime': False,\n",
      "              'Get Response': False,\n",
      "              'Google Search': False,\n",
      "              'Improve Code': False,\n",
      "              'Instruct AI Agent ci_agent': False,\n",
      "              'Instruct AI Agent gpt4free': False,\n",
      "              'Instruct AI Agent negl': False,\n",
      "              'Instruct AI Agent test_quickcheck': False,\n",
      "              'Instruct AI Agent test_quickcheck_agent': False,\n",
      "              'Is Valid URL': False,\n",
      "              'Perform Automated Testing': False,\n",
      "              'Read Audio': False,\n",
      "              'Read Audio from File': False,\n",
      "              'Read File': False,\n",
      "              'Run CI-CD Pipeline': False,\n",
      "              'Sanitize URL': False,\n",
      "              'Scrape Links': False,\n",
      "              'Scrape Links with Playwright': False,\n",
      "              'Scrape Text': False,\n",
      "              'Scrape Text with Playwright': False,\n",
      "              'Scrape Text with Selenium': False,\n",
      "              'Search Files': False,\n",
      "              'Speak with TTS': False,\n",
      "              'Use The Search Engine': False,\n",
      "              'Write Tests': False,\n",
      "              'Write to File': False}}\n"
     ]
    }
   ],
   "source": [
    "# Test GET /api/agent/{agent_name}/command\n",
    "# Get the agent's commands\n",
    "response = requests.get(f\"{base_uri}/api/agent/{agent_name}/command\")\n",
    "pprint(response.json())"
   ]
  },
  {
   "cell_type": "code",
   "execution_count": 26,
   "metadata": {},
   "outputs": [
    {
     "name": "stdout",
     "output_type": "stream",
     "text": [
      "{'message': \"Command 'Scrape Text' toggled for agent 'test_quickcheck_agent'.\"}\n"
     ]
    }
   ],
   "source": [
    "# Test PATCH /api/agent/{agent_name}/command\n",
    "# Update the agent's commands\n",
    "data = {\"command_name\": command_name, \"enable\": command_enabled}\n",
    "response = requests.patch(f\"{base_uri}/api/agent/{agent_name}/command\", json=data)\n",
    "pprint(response.json())"
   ]
  },
  {
   "attachments": {},
   "cell_type": "markdown",
   "metadata": {},
   "source": [
    "## Chains\n"
   ]
  },
  {
   "cell_type": "code",
   "execution_count": 27,
   "metadata": {},
   "outputs": [
    {
     "ename": "NameError",
     "evalue": "name 'chain_name' is not defined",
     "output_type": "error",
     "traceback": [
      "\u001b[0;31m---------------------------------------------------------------------------\u001b[0m",
      "\u001b[0;31mNameError\u001b[0m                                 Traceback (most recent call last)",
      "\u001b[0;32m/tmp/ipykernel_219093/932488515.py\u001b[0m in \u001b[0;36m<module>\u001b[0;34m\u001b[0m\n\u001b[1;32m      1\u001b[0m \u001b[0;31m# Test POST /api/chain\u001b[0m\u001b[0;34m\u001b[0m\u001b[0;34m\u001b[0m\u001b[0m\n\u001b[1;32m      2\u001b[0m \u001b[0;31m# Create a chain\u001b[0m\u001b[0;34m\u001b[0m\u001b[0;34m\u001b[0m\u001b[0m\n\u001b[0;32m----> 3\u001b[0;31m \u001b[0mdata\u001b[0m \u001b[0;34m=\u001b[0m \u001b[0;34m{\u001b[0m\u001b[0;34m\"chain_name\"\u001b[0m\u001b[0;34m:\u001b[0m \u001b[0mchain_name\u001b[0m\u001b[0;34m}\u001b[0m\u001b[0;34m\u001b[0m\u001b[0;34m\u001b[0m\u001b[0m\n\u001b[0m\u001b[1;32m      4\u001b[0m \u001b[0mresponse\u001b[0m \u001b[0;34m=\u001b[0m \u001b[0mrequests\u001b[0m\u001b[0;34m.\u001b[0m\u001b[0mpost\u001b[0m\u001b[0;34m(\u001b[0m\u001b[0;34mf\"{base_uri}/api/chain\"\u001b[0m\u001b[0;34m,\u001b[0m \u001b[0mjson\u001b[0m\u001b[0;34m=\u001b[0m\u001b[0mdata\u001b[0m\u001b[0;34m)\u001b[0m\u001b[0;34m\u001b[0m\u001b[0;34m\u001b[0m\u001b[0m\n\u001b[1;32m      5\u001b[0m \u001b[0mpprint\u001b[0m\u001b[0;34m(\u001b[0m\u001b[0mresponse\u001b[0m\u001b[0;34m.\u001b[0m\u001b[0mjson\u001b[0m\u001b[0;34m(\u001b[0m\u001b[0;34m)\u001b[0m\u001b[0;34m)\u001b[0m\u001b[0;34m\u001b[0m\u001b[0;34m\u001b[0m\u001b[0m\n",
      "\u001b[0;31mNameError\u001b[0m: name 'chain_name' is not defined"
     ]
    }
   ],
   "source": [
    "# Test POST /api/chain\n",
    "# Create a chain\n",
    "data = {\"chain_name\": chain_name}\n",
    "response = requests.post(f\"{base_uri}/api/chain\", json=data)\n",
    "pprint(response.json())"
   ]
  },
  {
   "cell_type": "code",
   "execution_count": null,
   "metadata": {},
   "outputs": [],
   "source": [
    "# Test GET /api/chain/{chain_name}\n",
    "# Get the chain\n",
    "response = requests.get(f\"{base_uri}/api/chain/{chain_name}\")\n",
    "pprint(response.json())"
   ]
  },
  {
   "cell_type": "code",
   "execution_count": null,
   "metadata": {},
   "outputs": [],
   "source": [
    "# Test GET /api/chain\n",
    "# Get all chains\n",
    "response = requests.get(f\"{base_uri}/api/chain\")\n",
    "pprint(response.json())"
   ]
  },
  {
   "cell_type": "code",
   "execution_count": null,
   "metadata": {},
   "outputs": [],
   "source": [
    "# Test POST /api/chain/{chain_name}/step\n",
    "# Add a step to the chain\n",
    "data = {\n",
    "    \"step_number\": 1,\n",
    "    \"prompt_type\": \"instruction\",\n",
    "    \"prompt\": \"What is the capital of France?\",\n",
    "}\n",
    "response = requests.post(f\"{base_uri}/api/chain/{chain_name}/step\", json=data)\n",
    "pprint(response.json())"
   ]
  },
  {
   "cell_type": "code",
   "execution_count": null,
   "metadata": {},
   "outputs": [],
   "source": [
    "# Test PUT /api/chain/{chain_name}/step\n",
    "# Update a step in the chain\n",
    "data = {\n",
    "    \"step_number\": 1,\n",
    "#    \"agent_name\": agent, should work without agent name\n",
    "    \"prompt_type\": \"instruction\",\n",
    "    \"prompt\": \"What is the capital of Spain?\",\n",
    "}\n",
    "response = requests.put(f\"{base_uri}/api/chain/{chain_name}/step\", json=data)\n",
    "pprint(response.json())"
   ]
  },
  {
   "cell_type": "code",
   "execution_count": null,
   "metadata": {},
   "outputs": [],
   "source": [
    "# Test POST /api/chain/{chain_name}/step\n",
    "# Add a second step to the chain\n",
    "data = {\n",
    "    \"step_number\": 2,\n",
    "    \"prompt_type\": \"instruction\",\n",
    "    \"prompt\": \"What is the capital of Italy?\",\n",
    "}\n",
    "response = requests.post(f\"{base_uri}/api/chain/{chain_name}/step\", json=data)\n",
    "pprint(response.json())"
   ]
  },
  {
   "cell_type": "code",
   "execution_count": null,
   "metadata": {},
   "outputs": [],
   "source": [
    "# Test PATCH /api/chain/{chain_name}/step/move\n",
    "# Move a step in the chain\n",
    "# =======> 'Chain' object has no attribute 'move_step'\n",
    "# data = {\"old_step_number\": 1, \"new_step_number\": 2, \"prompt_type\": \"instruction\"}\n",
    "# response = requests.patch(f\"{base_uri}/api/chain/{chain_name}/step/move\", json=data)\n",
    "# pprint(response.json())"
   ]
  },
  {
   "cell_type": "code",
   "execution_count": null,
   "metadata": {},
   "outputs": [],
   "source": [
    "# Test DELETE /api/chain/{chain_name}/step/{step_number}\n",
    "# Delete a step in the chain\n",
    "response = requests.delete(f\"{base_uri}/api/chain/{chain_name}/step/2\")\n",
    "pprint(response.json())"
   ]
  },
  {
   "cell_type": "code",
   "execution_count": null,
   "metadata": {},
   "outputs": [],
   "source": [
    "# Test GET /api/chain/{chain_name}/step\n",
    "# Get all steps in a chain\n",
    "response = requests.get(f\"{base_uri}/api/chain/{chain_name}/step\")\n",
    "pprint(response.json())"
   ]
  },
  {
   "cell_type": "code",
   "execution_count": null,
   "metadata": {},
   "outputs": [],
   "source": [
    "# Test DELETE /api/chain/{chain_name}\n",
    "# Delete the chain\n",
    "response = requests.delete(f\"{base_uri}/api/chain/{chain_name}\")\n",
    "pprint(response.json())"
   ]
  },
  {
   "attachments": {},
   "cell_type": "markdown",
   "metadata": {},
   "source": [
    "## Prompts\n"
   ]
  },
  {
   "cell_type": "code",
   "execution_count": null,
   "metadata": {},
   "outputs": [],
   "source": [
    "# Test POST /api/prompt\n",
    "# Add a prompt\n",
    "data = {\"prompt_name\": prompt_name, \"prompt\": prompt}\n",
    "response = requests.post(f\"{base_uri}/api/prompt\", json=data)\n",
    "pprint(response.json())"
   ]
  },
  {
   "cell_type": "code",
   "execution_count": null,
   "metadata": {},
   "outputs": [],
   "source": [
    "# Test GET /api/prompt/{prompt_name}\n",
    "# Get the prompt\n",
    "response = requests.get(f\"{base_uri}/api/prompt/{prompt_name}\")\n",
    "pprint(response.json())"
   ]
  },
  {
   "cell_type": "code",
   "execution_count": null,
   "metadata": {},
   "outputs": [],
   "source": [
    "# Test GET /api/prompt\n",
    "# Get all prompts\n",
    "response = requests.get(f\"{base_uri}/api/prompt\")\n",
    "pprint(response.json())"
   ]
  },
  {
   "cell_type": "code",
   "execution_count": null,
   "metadata": {},
   "outputs": [],
   "source": [
    "# Test DELETE /api/prompt/{prompt_name}\n",
    "# Delete the prompt\n",
    "response = requests.delete(f\"{base_uri}/api/prompt/{prompt_name}\")\n",
    "pprint(response.json())"
   ]
  },
  {
   "attachments": {},
   "cell_type": "markdown",
   "metadata": {},
   "source": [
    "## Additional Agent operations"
   ]
  },
  {
   "cell_type": "code",
   "execution_count": null,
   "metadata": {},
   "outputs": [],
   "source": [
    "# Test PUT /api/agent/{agent_name}\n",
    "# Rename the agent\n",
    "data = {\"new_name\": renamed_agent_name}\n",
    "response = requests.put(f\"{base_uri}/api/agent/{agent_name}\", json=data)\n",
    "pprint(response.json())"
   ]
  },
  {
   "cell_type": "code",
   "execution_count": null,
   "metadata": {},
   "outputs": [],
   "source": [
    "# Test DELETE /api/agent/{agent_name}\n",
    "# Delete the agent\n",
    "response = requests.delete(f\"{base_uri}/api/agent/{renamed_agent_name}\")\n",
    "pprint(response.json())"
   ]
  },
  {
   "cell_type": "code",
   "execution_count": 7,
   "metadata": {
    "scrolled": true
   },
   "outputs": [],
   "source": [
    "# Test GET /api/agent/{agent_name}\n",
    "# Make sure the agent has vanished\n",
    "response = requests.get(f\"{base_uri}/api/agent/{agent_name}\")\n",
    "assert response.status_code == 404, response.json()"
   ]
  }
 ],
 "metadata": {
  "kernelspec": {
   "display_name": "Python 3 (ipykernel)",
   "language": "python",
   "name": "python3"
  },
  "language_info": {
   "codemirror_mode": {
    "name": "ipython",
    "version": 3
   },
   "file_extension": ".py",
   "mimetype": "text/x-python",
   "name": "python",
   "nbconvert_exporter": "python",
   "pygments_lexer": "ipython3",
   "version": "3.10.6"
  }
 },
 "nbformat": 4,
 "nbformat_minor": 4
}
